{
 "cells": [
  {
   "cell_type": "markdown",
   "id": "74441011",
   "metadata": {},
   "source": [
    "imports"
   ]
  },
  {
   "cell_type": "code",
   "execution_count": 1,
   "id": "6b5ef7aa",
   "metadata": {},
   "outputs": [],
   "source": [
    "import pandas as pd"
   ]
  },
  {
   "cell_type": "markdown",
   "id": "fdaa2011",
   "metadata": {},
   "source": [
    "creating the dataset"
   ]
  },
  {
   "cell_type": "code",
   "execution_count": 4,
   "id": "8ecd4f2c",
   "metadata": {},
   "outputs": [],
   "source": [
    "data = {'Name': [\"Simson\", \"Anna\", \"Peter\", \"Linda\", \"Maria\", \"Daniel\", \"Simon\", \"Monica\"],\n",
    "        'Profession':[\"Data Analyst\", \"Steward\", \"Refree\", \"Mechanic\", \"Pilot\", \"Nurse\", \"Police officer\", \"Doctor\"],\n",
    "        'Gender':[28, 25, 35, 32, 55, 42, 59, 40],\n",
    "        'Country':[\"Namibia\", \"South Africa\", \"USA\", \"Canada\", \"Nigeria\", \"Germany\", \"Germany\", \"Portugal\"]}\n",
    "\n",
    "df = pd.DataFrame(data)"
   ]
  },
  {
   "cell_type": "markdown",
   "id": "0c7c34dd",
   "metadata": {},
   "source": [
    "saving the data into a csv file"
   ]
  },
  {
   "cell_type": "code",
   "execution_count": 6,
   "id": "e7e0b5ef",
   "metadata": {},
   "outputs": [],
   "source": [
    "df.to_csv(\"Professions.csv\", index=False)"
   ]
  },
  {
   "cell_type": "markdown",
   "id": "67336680",
   "metadata": {},
   "source": [
    "reading the csv file"
   ]
  },
  {
   "cell_type": "code",
   "execution_count": null,
   "id": "581a9dd0",
   "metadata": {},
   "outputs": [
    {
     "data": {
      "text/html": [
       "<div>\n",
       "<style scoped>\n",
       "    .dataframe tbody tr th:only-of-type {\n",
       "        vertical-align: middle;\n",
       "    }\n",
       "\n",
       "    .dataframe tbody tr th {\n",
       "        vertical-align: top;\n",
       "    }\n",
       "\n",
       "    .dataframe thead th {\n",
       "        text-align: right;\n",
       "    }\n",
       "</style>\n",
       "<table border=\"1\" class=\"dataframe\">\n",
       "  <thead>\n",
       "    <tr style=\"text-align: right;\">\n",
       "      <th></th>\n",
       "      <th>Name</th>\n",
       "      <th>Profession</th>\n",
       "      <th>Gender</th>\n",
       "      <th>Country</th>\n",
       "    </tr>\n",
       "  </thead>\n",
       "  <tbody>\n",
       "    <tr>\n",
       "      <th>0</th>\n",
       "      <td>Simson</td>\n",
       "      <td>Data Analyst</td>\n",
       "      <td>28</td>\n",
       "      <td>Namibia</td>\n",
       "    </tr>\n",
       "    <tr>\n",
       "      <th>1</th>\n",
       "      <td>Anna</td>\n",
       "      <td>Steward</td>\n",
       "      <td>25</td>\n",
       "      <td>South Africa</td>\n",
       "    </tr>\n",
       "    <tr>\n",
       "      <th>2</th>\n",
       "      <td>Peter</td>\n",
       "      <td>Refree</td>\n",
       "      <td>35</td>\n",
       "      <td>USA</td>\n",
       "    </tr>\n",
       "    <tr>\n",
       "      <th>3</th>\n",
       "      <td>Linda</td>\n",
       "      <td>Mechanic</td>\n",
       "      <td>32</td>\n",
       "      <td>Canada</td>\n",
       "    </tr>\n",
       "    <tr>\n",
       "      <th>4</th>\n",
       "      <td>Maria</td>\n",
       "      <td>Pilot</td>\n",
       "      <td>55</td>\n",
       "      <td>Nigeria</td>\n",
       "    </tr>\n",
       "    <tr>\n",
       "      <th>5</th>\n",
       "      <td>Daniel</td>\n",
       "      <td>Nurse</td>\n",
       "      <td>42</td>\n",
       "      <td>Germany</td>\n",
       "    </tr>\n",
       "    <tr>\n",
       "      <th>6</th>\n",
       "      <td>Simon</td>\n",
       "      <td>Police officer</td>\n",
       "      <td>59</td>\n",
       "      <td>Germany</td>\n",
       "    </tr>\n",
       "    <tr>\n",
       "      <th>7</th>\n",
       "      <td>Monica</td>\n",
       "      <td>Doctor</td>\n",
       "      <td>40</td>\n",
       "      <td>Portugal</td>\n",
       "    </tr>\n",
       "  </tbody>\n",
       "</table>\n",
       "</div>"
      ],
      "text/plain": [
       "     Name      Profession  Gender       Country\n",
       "0  Simson    Data Analyst      28       Namibia\n",
       "1    Anna         Steward      25  South Africa\n",
       "2   Peter          Refree      35           USA\n",
       "3   Linda        Mechanic      32        Canada\n",
       "4   Maria           Pilot      55       Nigeria\n",
       "5  Daniel           Nurse      42       Germany\n",
       "6   Simon  Police officer      59       Germany\n",
       "7  Monica          Doctor      40      Portugal"
      ]
     },
     "execution_count": 7,
     "metadata": {},
     "output_type": "execute_result"
    }
   ],
   "source": [
    "pd.read_csv('Professions.csv')"
   ]
  }
 ],
 "metadata": {
  "kernelspec": {
   "display_name": "yolov5",
   "language": "python",
   "name": "python3"
  },
  "language_info": {
   "codemirror_mode": {
    "name": "ipython",
    "version": 3
   },
   "file_extension": ".py",
   "mimetype": "text/x-python",
   "name": "python",
   "nbconvert_exporter": "python",
   "pygments_lexer": "ipython3",
   "version": "3.13.2"
  }
 },
 "nbformat": 4,
 "nbformat_minor": 5
}
