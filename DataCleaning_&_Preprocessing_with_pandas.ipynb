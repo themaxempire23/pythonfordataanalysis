{
 "cells": [
  {
   "cell_type": "markdown",
   "id": "74441011",
   "metadata": {},
   "source": [
    "imports"
   ]
  },
  {
   "cell_type": "code",
   "execution_count": 27,
   "id": "6b5ef7aa",
   "metadata": {},
   "outputs": [],
   "source": [
    "import pandas as pd"
   ]
  },
  {
   "cell_type": "markdown",
   "id": "fdaa2011",
   "metadata": {},
   "source": [
    "creating the dataset"
   ]
  },
  {
   "cell_type": "code",
   "execution_count": 28,
   "id": "8ecd4f2c",
   "metadata": {},
   "outputs": [],
   "source": [
    "data = {'Name': [\"Simson\", \"Anna\", \"Peter\", \"Linda\", \"Maria\", \"Daniel\", \"Simon\", \"Monica\"],\n",
    "        'Profession':[\"Data Analyst\", \"Steward\", \"Refree\", \"Mechanic\", \"Pilot\", \"Nurse\", \"Police officer\", \"Doctor\"],\n",
    "        'Age':[28, 25, 35, 32, 55, 42, 59, 40],\n",
    "        'Country':[\"Namibia\", \"South Africa\", \"USA\", \"Canada\", \"Nigeria\", \"Germany\", \"Germany\", \"Portugal\"]}\n",
    "\n",
    "df = pd.DataFrame(data)"
   ]
  },
  {
   "cell_type": "markdown",
   "id": "0c7c34dd",
   "metadata": {},
   "source": [
    "saving the data into a csv file"
   ]
  },
  {
   "cell_type": "code",
   "execution_count": 29,
   "id": "e7e0b5ef",
   "metadata": {},
   "outputs": [],
   "source": [
    "df.to_csv(\"Professions.csv\", index=False)"
   ]
  },
  {
   "cell_type": "markdown",
   "id": "67336680",
   "metadata": {},
   "source": [
    "reading the csv file"
   ]
  },
  {
   "cell_type": "code",
   "execution_count": 30,
   "id": "581a9dd0",
   "metadata": {},
   "outputs": [
    {
     "data": {
      "text/html": [
       "<div>\n",
       "<style scoped>\n",
       "    .dataframe tbody tr th:only-of-type {\n",
       "        vertical-align: middle;\n",
       "    }\n",
       "\n",
       "    .dataframe tbody tr th {\n",
       "        vertical-align: top;\n",
       "    }\n",
       "\n",
       "    .dataframe thead th {\n",
       "        text-align: right;\n",
       "    }\n",
       "</style>\n",
       "<table border=\"1\" class=\"dataframe\">\n",
       "  <thead>\n",
       "    <tr style=\"text-align: right;\">\n",
       "      <th></th>\n",
       "      <th>Name</th>\n",
       "      <th>Profession</th>\n",
       "      <th>Age</th>\n",
       "      <th>Country</th>\n",
       "    </tr>\n",
       "  </thead>\n",
       "  <tbody>\n",
       "    <tr>\n",
       "      <th>0</th>\n",
       "      <td>Simson</td>\n",
       "      <td>Data Analyst</td>\n",
       "      <td>28</td>\n",
       "      <td>Namibia</td>\n",
       "    </tr>\n",
       "    <tr>\n",
       "      <th>1</th>\n",
       "      <td>Anna</td>\n",
       "      <td>Steward</td>\n",
       "      <td>25</td>\n",
       "      <td>South Africa</td>\n",
       "    </tr>\n",
       "    <tr>\n",
       "      <th>2</th>\n",
       "      <td>Peter</td>\n",
       "      <td>Refree</td>\n",
       "      <td>35</td>\n",
       "      <td>USA</td>\n",
       "    </tr>\n",
       "    <tr>\n",
       "      <th>3</th>\n",
       "      <td>Linda</td>\n",
       "      <td>Mechanic</td>\n",
       "      <td>32</td>\n",
       "      <td>Canada</td>\n",
       "    </tr>\n",
       "    <tr>\n",
       "      <th>4</th>\n",
       "      <td>Maria</td>\n",
       "      <td>Pilot</td>\n",
       "      <td>55</td>\n",
       "      <td>Nigeria</td>\n",
       "    </tr>\n",
       "    <tr>\n",
       "      <th>5</th>\n",
       "      <td>Daniel</td>\n",
       "      <td>Nurse</td>\n",
       "      <td>42</td>\n",
       "      <td>Germany</td>\n",
       "    </tr>\n",
       "    <tr>\n",
       "      <th>6</th>\n",
       "      <td>Simon</td>\n",
       "      <td>Police officer</td>\n",
       "      <td>59</td>\n",
       "      <td>Germany</td>\n",
       "    </tr>\n",
       "    <tr>\n",
       "      <th>7</th>\n",
       "      <td>Monica</td>\n",
       "      <td>Doctor</td>\n",
       "      <td>40</td>\n",
       "      <td>Portugal</td>\n",
       "    </tr>\n",
       "  </tbody>\n",
       "</table>\n",
       "</div>"
      ],
      "text/plain": [
       "     Name      Profession  Age       Country\n",
       "0  Simson    Data Analyst   28       Namibia\n",
       "1    Anna         Steward   25  South Africa\n",
       "2   Peter          Refree   35           USA\n",
       "3   Linda        Mechanic   32        Canada\n",
       "4   Maria           Pilot   55       Nigeria\n",
       "5  Daniel           Nurse   42       Germany\n",
       "6   Simon  Police officer   59       Germany\n",
       "7  Monica          Doctor   40      Portugal"
      ]
     },
     "execution_count": 30,
     "metadata": {},
     "output_type": "execute_result"
    }
   ],
   "source": [
    "pd.read_csv('Professions.csv')"
   ]
  },
  {
   "cell_type": "markdown",
   "id": "ed1bfe71",
   "metadata": {},
   "source": [
    "Going through our data"
   ]
  },
  {
   "cell_type": "code",
   "execution_count": 31,
   "id": "b2bbe099",
   "metadata": {},
   "outputs": [
    {
     "data": {
      "text/html": [
       "<div>\n",
       "<style scoped>\n",
       "    .dataframe tbody tr th:only-of-type {\n",
       "        vertical-align: middle;\n",
       "    }\n",
       "\n",
       "    .dataframe tbody tr th {\n",
       "        vertical-align: top;\n",
       "    }\n",
       "\n",
       "    .dataframe thead th {\n",
       "        text-align: right;\n",
       "    }\n",
       "</style>\n",
       "<table border=\"1\" class=\"dataframe\">\n",
       "  <thead>\n",
       "    <tr style=\"text-align: right;\">\n",
       "      <th></th>\n",
       "      <th>Age</th>\n",
       "    </tr>\n",
       "  </thead>\n",
       "  <tbody>\n",
       "    <tr>\n",
       "      <th>count</th>\n",
       "      <td>8.000000</td>\n",
       "    </tr>\n",
       "    <tr>\n",
       "      <th>mean</th>\n",
       "      <td>39.500000</td>\n",
       "    </tr>\n",
       "    <tr>\n",
       "      <th>std</th>\n",
       "      <td>12.224098</td>\n",
       "    </tr>\n",
       "    <tr>\n",
       "      <th>min</th>\n",
       "      <td>25.000000</td>\n",
       "    </tr>\n",
       "    <tr>\n",
       "      <th>25%</th>\n",
       "      <td>31.000000</td>\n",
       "    </tr>\n",
       "    <tr>\n",
       "      <th>50%</th>\n",
       "      <td>37.500000</td>\n",
       "    </tr>\n",
       "    <tr>\n",
       "      <th>75%</th>\n",
       "      <td>45.250000</td>\n",
       "    </tr>\n",
       "    <tr>\n",
       "      <th>max</th>\n",
       "      <td>59.000000</td>\n",
       "    </tr>\n",
       "  </tbody>\n",
       "</table>\n",
       "</div>"
      ],
      "text/plain": [
       "             Age\n",
       "count   8.000000\n",
       "mean   39.500000\n",
       "std    12.224098\n",
       "min    25.000000\n",
       "25%    31.000000\n",
       "50%    37.500000\n",
       "75%    45.250000\n",
       "max    59.000000"
      ]
     },
     "execution_count": 31,
     "metadata": {},
     "output_type": "execute_result"
    }
   ],
   "source": [
    "df.describe() # Describe our dataset, Generates descriptive statistics  of the dataset"
   ]
  },
  {
   "cell_type": "code",
   "execution_count": 34,
   "id": "4255aeaa",
   "metadata": {},
   "outputs": [
    {
     "data": {
      "text/plain": [
       "np.int64(25)"
      ]
     },
     "execution_count": 34,
     "metadata": {},
     "output_type": "execute_result"
    }
   ],
   "source": [
    "# Describing specific coloumns\n",
    "df[\"Age\"].mean()\n",
    "df[\"Age\"].count()\n",
    "df[\"Age\"].std()\n",
    "df[\"Age\"].max()\n",
    "df[\"Age\"].var()\n",
    "df[\"Age\"].mode()\n",
    "df[\"Age\"].min()"
   ]
  },
  {
   "cell_type": "markdown",
   "id": "2d160c87",
   "metadata": {},
   "source": [
    "Getting the IQR calculations"
   ]
  },
  {
   "cell_type": "code",
   "execution_count": 36,
   "id": "e61e8604",
   "metadata": {},
   "outputs": [
    {
     "data": {
      "text/plain": [
       "(np.float64(31.0), np.float64(45.25))"
      ]
     },
     "execution_count": 36,
     "metadata": {},
     "output_type": "execute_result"
    }
   ],
   "source": [
    "df[\"Age\"].min(), df[\"Age\"].max()\n",
    "abs(df[\"Age\"].min()-df[\"Age\"].max())\n",
    "\n",
    "df[\"Age\"].quantile(q=0.25),df[\"Age\"].quantile(q=0.75)"
   ]
  },
  {
   "cell_type": "markdown",
   "id": "656bb5f9",
   "metadata": {},
   "source": [
    "using the abstraction to get IQR calculatio"
   ]
  },
  {
   "cell_type": "code",
   "execution_count": 37,
   "id": "e4849c12",
   "metadata": {},
   "outputs": [
    {
     "data": {
      "text/plain": [
       "np.float64(14.25)"
      ]
     },
     "execution_count": 37,
     "metadata": {},
     "output_type": "execute_result"
    }
   ],
   "source": [
    "abs(df[\"Age\"].quantile(q=0.25)-df[\"Age\"].quantile(q=0.75))"
   ]
  },
  {
   "cell_type": "markdown",
   "id": "c321a798",
   "metadata": {},
   "source": [
    "Handling missing data"
   ]
  },
  {
   "cell_type": "code",
   "execution_count": null,
   "id": "82955196",
   "metadata": {},
   "outputs": [],
   "source": []
  }
 ],
 "metadata": {
  "kernelspec": {
   "display_name": "yolov5",
   "language": "python",
   "name": "python3"
  },
  "language_info": {
   "codemirror_mode": {
    "name": "ipython",
    "version": 3
   },
   "file_extension": ".py",
   "mimetype": "text/x-python",
   "name": "python",
   "nbconvert_exporter": "python",
   "pygments_lexer": "ipython3",
   "version": "3.13.2"
  }
 },
 "nbformat": 4,
 "nbformat_minor": 5
}
