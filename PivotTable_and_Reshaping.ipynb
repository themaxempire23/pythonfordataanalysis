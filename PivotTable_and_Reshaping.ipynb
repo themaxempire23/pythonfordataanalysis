{
 "cells": [
  {
   "cell_type": "code",
   "execution_count": 1,
   "id": "5386dfb2",
   "metadata": {},
   "outputs": [],
   "source": [
    "import pandas as pd"
   ]
  },
  {
   "cell_type": "code",
   "execution_count": 3,
   "id": "23dd1600",
   "metadata": {},
   "outputs": [],
   "source": [
    "df = pd.DataFrame({\"A\": [\"foo\", \"foo\", \"foo\", \"foo\", \"foo\", \"bar\", \"bar\", \"bar\", \"bar\"],\n",
    "                   \"B\": [\"one\", \"one\", \"one\", \"two\", \"two\", \"one\", \"one\", \"two\", \"two\"],\n",
    "                   \"C\": [\"java\", \"python\", \"golang\", \"next.js\", \"node.js\", \"SQL\", \"Postgress\", \"Tensor Flow\", \"TensorFlow\"],\n",
    "                   \"D\": [1, 2, 3, 4, 5, 6, 7, 8, 9],\n",
    "                   \"E\": [2, 4, 6, 7, 8, 9, 8, 5, 4]})"
   ]
  },
  {
   "cell_type": "markdown",
   "id": "70b30821",
   "metadata": {},
   "source": [
    "working with melt"
   ]
  },
  {
   "cell_type": "code",
   "execution_count": null,
   "id": "89baae8e",
   "metadata": {},
   "outputs": [],
   "source": [
    "df"
   ]
  }
 ],
 "metadata": {
  "kernelspec": {
   "display_name": "yolov5",
   "language": "python",
   "name": "python3"
  },
  "language_info": {
   "codemirror_mode": {
    "name": "ipython",
    "version": 3
   },
   "file_extension": ".py",
   "mimetype": "text/x-python",
   "name": "python",
   "nbconvert_exporter": "python",
   "pygments_lexer": "ipython3",
   "version": "3.13.2"
  }
 },
 "nbformat": 4,
 "nbformat_minor": 5
}
