{
 "cells": [
  {
   "cell_type": "code",
   "execution_count": 1,
   "id": "5386dfb2",
   "metadata": {},
   "outputs": [],
   "source": [
    "import pandas as pd"
   ]
  },
  {
   "cell_type": "code",
   "execution_count": 3,
   "id": "23dd1600",
   "metadata": {},
   "outputs": [],
   "source": [
    "df = pd.DataFrame({\"A\": [\"foo\", \"foo\", \"foo\", \"foo\", \"foo\", \"bar\", \"bar\", \"bar\", \"bar\"],\n",
    "                   \"B\": [\"one\", \"one\", \"one\", \"two\", \"two\", \"one\", \"one\", \"two\", \"two\"],\n",
    "                   \"C\": [\"java\", \"python\", \"golang\", \"next.js\", \"node.js\", \"SQL\", \"Postgress\", \"Tensor Flow\", \"TensorFlow\"],\n",
    "                   \"D\": [1, 2, 3, 4, 5, 6, 7, 8, 9],\n",
    "                   \"E\": [2, 4, 6, 7, 8, 9, 8, 5, 4]})"
   ]
  },
  {
   "cell_type": "markdown",
   "id": "70b30821",
   "metadata": {},
   "source": [
    "working with melt"
   ]
  },
  {
   "cell_type": "code",
   "execution_count": 4,
   "id": "89baae8e",
   "metadata": {},
   "outputs": [
    {
     "data": {
      "application/vnd.microsoft.datawrangler.viewer.v0+json": {
       "columns": [
        {
         "name": "index",
         "rawType": "int64",
         "type": "integer"
        },
        {
         "name": "A",
         "rawType": "object",
         "type": "string"
        },
        {
         "name": "Metrics",
         "rawType": "object",
         "type": "string"
        },
        {
         "name": "Value",
         "rawType": "object",
         "type": "unknown"
        }
       ],
       "ref": "242f08f1-3ff3-4d79-b40a-90de8f5c654a",
       "rows": [
        [
         "0",
         "foo",
         "B",
         "one"
        ],
        [
         "1",
         "foo",
         "B",
         "one"
        ],
        [
         "2",
         "foo",
         "B",
         "one"
        ],
        [
         "3",
         "foo",
         "B",
         "two"
        ],
        [
         "4",
         "foo",
         "B",
         "two"
        ],
        [
         "5",
         "bar",
         "B",
         "one"
        ],
        [
         "6",
         "bar",
         "B",
         "one"
        ],
        [
         "7",
         "bar",
         "B",
         "two"
        ],
        [
         "8",
         "bar",
         "B",
         "two"
        ],
        [
         "9",
         "foo",
         "C",
         "java"
        ],
        [
         "10",
         "foo",
         "C",
         "python"
        ],
        [
         "11",
         "foo",
         "C",
         "golang"
        ],
        [
         "12",
         "foo",
         "C",
         "next.js"
        ],
        [
         "13",
         "foo",
         "C",
         "node.js"
        ],
        [
         "14",
         "bar",
         "C",
         "SQL"
        ],
        [
         "15",
         "bar",
         "C",
         "Postgress"
        ],
        [
         "16",
         "bar",
         "C",
         "Tensor Flow"
        ],
        [
         "17",
         "bar",
         "C",
         "TensorFlow"
        ],
        [
         "18",
         "foo",
         "D",
         "1"
        ],
        [
         "19",
         "foo",
         "D",
         "2"
        ],
        [
         "20",
         "foo",
         "D",
         "3"
        ],
        [
         "21",
         "foo",
         "D",
         "4"
        ],
        [
         "22",
         "foo",
         "D",
         "5"
        ],
        [
         "23",
         "bar",
         "D",
         "6"
        ],
        [
         "24",
         "bar",
         "D",
         "7"
        ],
        [
         "25",
         "bar",
         "D",
         "8"
        ],
        [
         "26",
         "bar",
         "D",
         "9"
        ],
        [
         "27",
         "foo",
         "E",
         "2"
        ],
        [
         "28",
         "foo",
         "E",
         "4"
        ],
        [
         "29",
         "foo",
         "E",
         "6"
        ],
        [
         "30",
         "foo",
         "E",
         "7"
        ],
        [
         "31",
         "foo",
         "E",
         "8"
        ],
        [
         "32",
         "bar",
         "E",
         "9"
        ],
        [
         "33",
         "bar",
         "E",
         "8"
        ],
        [
         "34",
         "bar",
         "E",
         "5"
        ],
        [
         "35",
         "bar",
         "E",
         "4"
        ]
       ],
       "shape": {
        "columns": 3,
        "rows": 36
       }
      },
      "text/html": [
       "<div>\n",
       "<style scoped>\n",
       "    .dataframe tbody tr th:only-of-type {\n",
       "        vertical-align: middle;\n",
       "    }\n",
       "\n",
       "    .dataframe tbody tr th {\n",
       "        vertical-align: top;\n",
       "    }\n",
       "\n",
       "    .dataframe thead th {\n",
       "        text-align: right;\n",
       "    }\n",
       "</style>\n",
       "<table border=\"1\" class=\"dataframe\">\n",
       "  <thead>\n",
       "    <tr style=\"text-align: right;\">\n",
       "      <th></th>\n",
       "      <th>A</th>\n",
       "      <th>Metrics</th>\n",
       "      <th>Value</th>\n",
       "    </tr>\n",
       "  </thead>\n",
       "  <tbody>\n",
       "    <tr>\n",
       "      <th>0</th>\n",
       "      <td>foo</td>\n",
       "      <td>B</td>\n",
       "      <td>one</td>\n",
       "    </tr>\n",
       "    <tr>\n",
       "      <th>1</th>\n",
       "      <td>foo</td>\n",
       "      <td>B</td>\n",
       "      <td>one</td>\n",
       "    </tr>\n",
       "    <tr>\n",
       "      <th>2</th>\n",
       "      <td>foo</td>\n",
       "      <td>B</td>\n",
       "      <td>one</td>\n",
       "    </tr>\n",
       "    <tr>\n",
       "      <th>3</th>\n",
       "      <td>foo</td>\n",
       "      <td>B</td>\n",
       "      <td>two</td>\n",
       "    </tr>\n",
       "    <tr>\n",
       "      <th>4</th>\n",
       "      <td>foo</td>\n",
       "      <td>B</td>\n",
       "      <td>two</td>\n",
       "    </tr>\n",
       "    <tr>\n",
       "      <th>5</th>\n",
       "      <td>bar</td>\n",
       "      <td>B</td>\n",
       "      <td>one</td>\n",
       "    </tr>\n",
       "    <tr>\n",
       "      <th>6</th>\n",
       "      <td>bar</td>\n",
       "      <td>B</td>\n",
       "      <td>one</td>\n",
       "    </tr>\n",
       "    <tr>\n",
       "      <th>7</th>\n",
       "      <td>bar</td>\n",
       "      <td>B</td>\n",
       "      <td>two</td>\n",
       "    </tr>\n",
       "    <tr>\n",
       "      <th>8</th>\n",
       "      <td>bar</td>\n",
       "      <td>B</td>\n",
       "      <td>two</td>\n",
       "    </tr>\n",
       "    <tr>\n",
       "      <th>9</th>\n",
       "      <td>foo</td>\n",
       "      <td>C</td>\n",
       "      <td>java</td>\n",
       "    </tr>\n",
       "    <tr>\n",
       "      <th>10</th>\n",
       "      <td>foo</td>\n",
       "      <td>C</td>\n",
       "      <td>python</td>\n",
       "    </tr>\n",
       "    <tr>\n",
       "      <th>11</th>\n",
       "      <td>foo</td>\n",
       "      <td>C</td>\n",
       "      <td>golang</td>\n",
       "    </tr>\n",
       "    <tr>\n",
       "      <th>12</th>\n",
       "      <td>foo</td>\n",
       "      <td>C</td>\n",
       "      <td>next.js</td>\n",
       "    </tr>\n",
       "    <tr>\n",
       "      <th>13</th>\n",
       "      <td>foo</td>\n",
       "      <td>C</td>\n",
       "      <td>node.js</td>\n",
       "    </tr>\n",
       "    <tr>\n",
       "      <th>14</th>\n",
       "      <td>bar</td>\n",
       "      <td>C</td>\n",
       "      <td>SQL</td>\n",
       "    </tr>\n",
       "    <tr>\n",
       "      <th>15</th>\n",
       "      <td>bar</td>\n",
       "      <td>C</td>\n",
       "      <td>Postgress</td>\n",
       "    </tr>\n",
       "    <tr>\n",
       "      <th>16</th>\n",
       "      <td>bar</td>\n",
       "      <td>C</td>\n",
       "      <td>Tensor Flow</td>\n",
       "    </tr>\n",
       "    <tr>\n",
       "      <th>17</th>\n",
       "      <td>bar</td>\n",
       "      <td>C</td>\n",
       "      <td>TensorFlow</td>\n",
       "    </tr>\n",
       "    <tr>\n",
       "      <th>18</th>\n",
       "      <td>foo</td>\n",
       "      <td>D</td>\n",
       "      <td>1</td>\n",
       "    </tr>\n",
       "    <tr>\n",
       "      <th>19</th>\n",
       "      <td>foo</td>\n",
       "      <td>D</td>\n",
       "      <td>2</td>\n",
       "    </tr>\n",
       "    <tr>\n",
       "      <th>20</th>\n",
       "      <td>foo</td>\n",
       "      <td>D</td>\n",
       "      <td>3</td>\n",
       "    </tr>\n",
       "    <tr>\n",
       "      <th>21</th>\n",
       "      <td>foo</td>\n",
       "      <td>D</td>\n",
       "      <td>4</td>\n",
       "    </tr>\n",
       "    <tr>\n",
       "      <th>22</th>\n",
       "      <td>foo</td>\n",
       "      <td>D</td>\n",
       "      <td>5</td>\n",
       "    </tr>\n",
       "    <tr>\n",
       "      <th>23</th>\n",
       "      <td>bar</td>\n",
       "      <td>D</td>\n",
       "      <td>6</td>\n",
       "    </tr>\n",
       "    <tr>\n",
       "      <th>24</th>\n",
       "      <td>bar</td>\n",
       "      <td>D</td>\n",
       "      <td>7</td>\n",
       "    </tr>\n",
       "    <tr>\n",
       "      <th>25</th>\n",
       "      <td>bar</td>\n",
       "      <td>D</td>\n",
       "      <td>8</td>\n",
       "    </tr>\n",
       "    <tr>\n",
       "      <th>26</th>\n",
       "      <td>bar</td>\n",
       "      <td>D</td>\n",
       "      <td>9</td>\n",
       "    </tr>\n",
       "    <tr>\n",
       "      <th>27</th>\n",
       "      <td>foo</td>\n",
       "      <td>E</td>\n",
       "      <td>2</td>\n",
       "    </tr>\n",
       "    <tr>\n",
       "      <th>28</th>\n",
       "      <td>foo</td>\n",
       "      <td>E</td>\n",
       "      <td>4</td>\n",
       "    </tr>\n",
       "    <tr>\n",
       "      <th>29</th>\n",
       "      <td>foo</td>\n",
       "      <td>E</td>\n",
       "      <td>6</td>\n",
       "    </tr>\n",
       "    <tr>\n",
       "      <th>30</th>\n",
       "      <td>foo</td>\n",
       "      <td>E</td>\n",
       "      <td>7</td>\n",
       "    </tr>\n",
       "    <tr>\n",
       "      <th>31</th>\n",
       "      <td>foo</td>\n",
       "      <td>E</td>\n",
       "      <td>8</td>\n",
       "    </tr>\n",
       "    <tr>\n",
       "      <th>32</th>\n",
       "      <td>bar</td>\n",
       "      <td>E</td>\n",
       "      <td>9</td>\n",
       "    </tr>\n",
       "    <tr>\n",
       "      <th>33</th>\n",
       "      <td>bar</td>\n",
       "      <td>E</td>\n",
       "      <td>8</td>\n",
       "    </tr>\n",
       "    <tr>\n",
       "      <th>34</th>\n",
       "      <td>bar</td>\n",
       "      <td>E</td>\n",
       "      <td>5</td>\n",
       "    </tr>\n",
       "    <tr>\n",
       "      <th>35</th>\n",
       "      <td>bar</td>\n",
       "      <td>E</td>\n",
       "      <td>4</td>\n",
       "    </tr>\n",
       "  </tbody>\n",
       "</table>\n",
       "</div>"
      ],
      "text/plain": [
       "      A Metrics        Value\n",
       "0   foo       B          one\n",
       "1   foo       B          one\n",
       "2   foo       B          one\n",
       "3   foo       B          two\n",
       "4   foo       B          two\n",
       "5   bar       B          one\n",
       "6   bar       B          one\n",
       "7   bar       B          two\n",
       "8   bar       B          two\n",
       "9   foo       C         java\n",
       "10  foo       C       python\n",
       "11  foo       C       golang\n",
       "12  foo       C      next.js\n",
       "13  foo       C      node.js\n",
       "14  bar       C          SQL\n",
       "15  bar       C    Postgress\n",
       "16  bar       C  Tensor Flow\n",
       "17  bar       C   TensorFlow\n",
       "18  foo       D            1\n",
       "19  foo       D            2\n",
       "20  foo       D            3\n",
       "21  foo       D            4\n",
       "22  foo       D            5\n",
       "23  bar       D            6\n",
       "24  bar       D            7\n",
       "25  bar       D            8\n",
       "26  bar       D            9\n",
       "27  foo       E            2\n",
       "28  foo       E            4\n",
       "29  foo       E            6\n",
       "30  foo       E            7\n",
       "31  foo       E            8\n",
       "32  bar       E            9\n",
       "33  bar       E            8\n",
       "34  bar       E            5\n",
       "35  bar       E            4"
      ]
     },
     "execution_count": 4,
     "metadata": {},
     "output_type": "execute_result"
    }
   ],
   "source": [
    "df.melt(\n",
    "    id_vars=[\"A\"],\n",
    "    var_name=\"Metrics\",\n",
    "    value_name=\"Value\"\n",
    ")"
   ]
  },
  {
   "cell_type": "code",
   "execution_count": 5,
   "id": "0686fcd3",
   "metadata": {},
   "outputs": [
    {
     "data": {
      "application/vnd.microsoft.datawrangler.viewer.v0+json": {
       "columns": [
        {
         "name": "(None, None)",
         "rawType": "object",
         "type": "unknown"
        },
        {
         "name": "0",
         "rawType": "object",
         "type": "unknown"
        }
       ],
       "ref": "8601d02b-ac70-4561-aaa6-db79963f2985",
       "rows": [
        [
         "(0, 'A')",
         "foo"
        ],
        [
         "(0, 'B')",
         "one"
        ],
        [
         "(0, 'C')",
         "java"
        ],
        [
         "(0, 'D')",
         "1"
        ],
        [
         "(0, 'E')",
         "2"
        ],
        [
         "(1, 'A')",
         "foo"
        ],
        [
         "(1, 'B')",
         "one"
        ],
        [
         "(1, 'C')",
         "python"
        ],
        [
         "(1, 'D')",
         "2"
        ],
        [
         "(1, 'E')",
         "4"
        ],
        [
         "(2, 'A')",
         "foo"
        ],
        [
         "(2, 'B')",
         "one"
        ],
        [
         "(2, 'C')",
         "golang"
        ],
        [
         "(2, 'D')",
         "3"
        ],
        [
         "(2, 'E')",
         "6"
        ],
        [
         "(3, 'A')",
         "foo"
        ],
        [
         "(3, 'B')",
         "two"
        ],
        [
         "(3, 'C')",
         "next.js"
        ],
        [
         "(3, 'D')",
         "4"
        ],
        [
         "(3, 'E')",
         "7"
        ],
        [
         "(4, 'A')",
         "foo"
        ],
        [
         "(4, 'B')",
         "two"
        ],
        [
         "(4, 'C')",
         "node.js"
        ],
        [
         "(4, 'D')",
         "5"
        ],
        [
         "(4, 'E')",
         "8"
        ],
        [
         "(5, 'A')",
         "bar"
        ],
        [
         "(5, 'B')",
         "one"
        ],
        [
         "(5, 'C')",
         "SQL"
        ],
        [
         "(5, 'D')",
         "6"
        ],
        [
         "(5, 'E')",
         "9"
        ],
        [
         "(6, 'A')",
         "bar"
        ],
        [
         "(6, 'B')",
         "one"
        ],
        [
         "(6, 'C')",
         "Postgress"
        ],
        [
         "(6, 'D')",
         "7"
        ],
        [
         "(6, 'E')",
         "8"
        ],
        [
         "(7, 'A')",
         "bar"
        ],
        [
         "(7, 'B')",
         "two"
        ],
        [
         "(7, 'C')",
         "Tensor Flow"
        ],
        [
         "(7, 'D')",
         "8"
        ],
        [
         "(7, 'E')",
         "5"
        ],
        [
         "(8, 'A')",
         "bar"
        ],
        [
         "(8, 'B')",
         "two"
        ],
        [
         "(8, 'C')",
         "TensorFlow"
        ],
        [
         "(8, 'D')",
         "9"
        ],
        [
         "(8, 'E')",
         "4"
        ]
       ],
       "shape": {
        "columns": 1,
        "rows": 45
       }
      },
      "text/plain": [
       "0  A            foo\n",
       "   B            one\n",
       "   C           java\n",
       "   D              1\n",
       "   E              2\n",
       "1  A            foo\n",
       "   B            one\n",
       "   C         python\n",
       "   D              2\n",
       "   E              4\n",
       "2  A            foo\n",
       "   B            one\n",
       "   C         golang\n",
       "   D              3\n",
       "   E              6\n",
       "3  A            foo\n",
       "   B            two\n",
       "   C        next.js\n",
       "   D              4\n",
       "   E              7\n",
       "4  A            foo\n",
       "   B            two\n",
       "   C        node.js\n",
       "   D              5\n",
       "   E              8\n",
       "5  A            bar\n",
       "   B            one\n",
       "   C            SQL\n",
       "   D              6\n",
       "   E              9\n",
       "6  A            bar\n",
       "   B            one\n",
       "   C      Postgress\n",
       "   D              7\n",
       "   E              8\n",
       "7  A            bar\n",
       "   B            two\n",
       "   C    Tensor Flow\n",
       "   D              8\n",
       "   E              5\n",
       "8  A            bar\n",
       "   B            two\n",
       "   C     TensorFlow\n",
       "   D              9\n",
       "   E              4\n",
       "dtype: object"
      ]
     },
     "execution_count": 5,
     "metadata": {},
     "output_type": "execute_result"
    }
   ],
   "source": [
    "df.stack()"
   ]
  },
  {
   "cell_type": "code",
   "execution_count": 6,
   "id": "1d9db3d4",
   "metadata": {},
   "outputs": [
    {
     "data": {
      "application/vnd.microsoft.datawrangler.viewer.v0+json": {
       "columns": [
        {
         "name": "(None, None)",
         "rawType": "object",
         "type": "unknown"
        },
        {
         "name": "0",
         "rawType": "object",
         "type": "unknown"
        }
       ],
       "ref": "1da83a47-6726-4f41-b8e6-cac74059388d",
       "rows": [
        [
         "('A', 0)",
         "foo"
        ],
        [
         "('A', 1)",
         "foo"
        ],
        [
         "('A', 2)",
         "foo"
        ],
        [
         "('A', 3)",
         "foo"
        ],
        [
         "('A', 4)",
         "foo"
        ],
        [
         "('A', 5)",
         "bar"
        ],
        [
         "('A', 6)",
         "bar"
        ],
        [
         "('A', 7)",
         "bar"
        ],
        [
         "('A', 8)",
         "bar"
        ],
        [
         "('B', 0)",
         "one"
        ],
        [
         "('B', 1)",
         "one"
        ],
        [
         "('B', 2)",
         "one"
        ],
        [
         "('B', 3)",
         "two"
        ],
        [
         "('B', 4)",
         "two"
        ],
        [
         "('B', 5)",
         "one"
        ],
        [
         "('B', 6)",
         "one"
        ],
        [
         "('B', 7)",
         "two"
        ],
        [
         "('B', 8)",
         "two"
        ],
        [
         "('C', 0)",
         "java"
        ],
        [
         "('C', 1)",
         "python"
        ],
        [
         "('C', 2)",
         "golang"
        ],
        [
         "('C', 3)",
         "next.js"
        ],
        [
         "('C', 4)",
         "node.js"
        ],
        [
         "('C', 5)",
         "SQL"
        ],
        [
         "('C', 6)",
         "Postgress"
        ],
        [
         "('C', 7)",
         "Tensor Flow"
        ],
        [
         "('C', 8)",
         "TensorFlow"
        ],
        [
         "('D', 0)",
         "1"
        ],
        [
         "('D', 1)",
         "2"
        ],
        [
         "('D', 2)",
         "3"
        ],
        [
         "('D', 3)",
         "4"
        ],
        [
         "('D', 4)",
         "5"
        ],
        [
         "('D', 5)",
         "6"
        ],
        [
         "('D', 6)",
         "7"
        ],
        [
         "('D', 7)",
         "8"
        ],
        [
         "('D', 8)",
         "9"
        ],
        [
         "('E', 0)",
         "2"
        ],
        [
         "('E', 1)",
         "4"
        ],
        [
         "('E', 2)",
         "6"
        ],
        [
         "('E', 3)",
         "7"
        ],
        [
         "('E', 4)",
         "8"
        ],
        [
         "('E', 5)",
         "9"
        ],
        [
         "('E', 6)",
         "8"
        ],
        [
         "('E', 7)",
         "5"
        ],
        [
         "('E', 8)",
         "4"
        ]
       ],
       "shape": {
        "columns": 1,
        "rows": 45
       }
      },
      "text/plain": [
       "A  0            foo\n",
       "   1            foo\n",
       "   2            foo\n",
       "   3            foo\n",
       "   4            foo\n",
       "   5            bar\n",
       "   6            bar\n",
       "   7            bar\n",
       "   8            bar\n",
       "B  0            one\n",
       "   1            one\n",
       "   2            one\n",
       "   3            two\n",
       "   4            two\n",
       "   5            one\n",
       "   6            one\n",
       "   7            two\n",
       "   8            two\n",
       "C  0           java\n",
       "   1         python\n",
       "   2         golang\n",
       "   3        next.js\n",
       "   4        node.js\n",
       "   5            SQL\n",
       "   6      Postgress\n",
       "   7    Tensor Flow\n",
       "   8     TensorFlow\n",
       "D  0              1\n",
       "   1              2\n",
       "   2              3\n",
       "   3              4\n",
       "   4              5\n",
       "   5              6\n",
       "   6              7\n",
       "   7              8\n",
       "   8              9\n",
       "E  0              2\n",
       "   1              4\n",
       "   2              6\n",
       "   3              7\n",
       "   4              8\n",
       "   5              9\n",
       "   6              8\n",
       "   7              5\n",
       "   8              4\n",
       "dtype: object"
      ]
     },
     "execution_count": 6,
     "metadata": {},
     "output_type": "execute_result"
    }
   ],
   "source": [
    "df.unstack()"
   ]
  },
  {
   "cell_type": "code",
   "execution_count": 7,
   "id": "fe38d998",
   "metadata": {},
   "outputs": [
    {
     "data": {
      "application/vnd.microsoft.datawrangler.viewer.v0+json": {
       "columns": [
        {
         "name": "index",
         "rawType": "int64",
         "type": "integer"
        },
        {
         "name": "A",
         "rawType": "object",
         "type": "string"
        },
        {
         "name": "B",
         "rawType": "object",
         "type": "string"
        },
        {
         "name": "C",
         "rawType": "object",
         "type": "string"
        },
        {
         "name": "D",
         "rawType": "object",
         "type": "unknown"
        },
        {
         "name": "E",
         "rawType": "object",
         "type": "unknown"
        }
       ],
       "ref": "0bf2fe30-a36a-4655-8a43-9f73d4ff0bb0",
       "rows": [
        [
         "0",
         "foo",
         "one",
         "java",
         "1",
         "2"
        ],
        [
         "1",
         "foo",
         "one",
         "python",
         "2",
         "4"
        ],
        [
         "2",
         "foo",
         "one",
         "golang",
         "3",
         "6"
        ],
        [
         "3",
         "foo",
         "two",
         "next.js",
         "4",
         "7"
        ],
        [
         "4",
         "foo",
         "two",
         "node.js",
         "5",
         "8"
        ],
        [
         "5",
         "bar",
         "one",
         "SQL",
         "6",
         "9"
        ],
        [
         "6",
         "bar",
         "one",
         "Postgress",
         "7",
         "8"
        ],
        [
         "7",
         "bar",
         "two",
         "Tensor Flow",
         "8",
         "5"
        ],
        [
         "8",
         "bar",
         "two",
         "TensorFlow",
         "9",
         "4"
        ]
       ],
       "shape": {
        "columns": 5,
        "rows": 9
       }
      },
      "text/html": [
       "<div>\n",
       "<style scoped>\n",
       "    .dataframe tbody tr th:only-of-type {\n",
       "        vertical-align: middle;\n",
       "    }\n",
       "\n",
       "    .dataframe tbody tr th {\n",
       "        vertical-align: top;\n",
       "    }\n",
       "\n",
       "    .dataframe thead th {\n",
       "        text-align: right;\n",
       "    }\n",
       "</style>\n",
       "<table border=\"1\" class=\"dataframe\">\n",
       "  <thead>\n",
       "    <tr style=\"text-align: right;\">\n",
       "      <th></th>\n",
       "      <th>A</th>\n",
       "      <th>B</th>\n",
       "      <th>C</th>\n",
       "      <th>D</th>\n",
       "      <th>E</th>\n",
       "    </tr>\n",
       "  </thead>\n",
       "  <tbody>\n",
       "    <tr>\n",
       "      <th>0</th>\n",
       "      <td>foo</td>\n",
       "      <td>one</td>\n",
       "      <td>java</td>\n",
       "      <td>1</td>\n",
       "      <td>2</td>\n",
       "    </tr>\n",
       "    <tr>\n",
       "      <th>1</th>\n",
       "      <td>foo</td>\n",
       "      <td>one</td>\n",
       "      <td>python</td>\n",
       "      <td>2</td>\n",
       "      <td>4</td>\n",
       "    </tr>\n",
       "    <tr>\n",
       "      <th>2</th>\n",
       "      <td>foo</td>\n",
       "      <td>one</td>\n",
       "      <td>golang</td>\n",
       "      <td>3</td>\n",
       "      <td>6</td>\n",
       "    </tr>\n",
       "    <tr>\n",
       "      <th>3</th>\n",
       "      <td>foo</td>\n",
       "      <td>two</td>\n",
       "      <td>next.js</td>\n",
       "      <td>4</td>\n",
       "      <td>7</td>\n",
       "    </tr>\n",
       "    <tr>\n",
       "      <th>4</th>\n",
       "      <td>foo</td>\n",
       "      <td>two</td>\n",
       "      <td>node.js</td>\n",
       "      <td>5</td>\n",
       "      <td>8</td>\n",
       "    </tr>\n",
       "    <tr>\n",
       "      <th>5</th>\n",
       "      <td>bar</td>\n",
       "      <td>one</td>\n",
       "      <td>SQL</td>\n",
       "      <td>6</td>\n",
       "      <td>9</td>\n",
       "    </tr>\n",
       "    <tr>\n",
       "      <th>6</th>\n",
       "      <td>bar</td>\n",
       "      <td>one</td>\n",
       "      <td>Postgress</td>\n",
       "      <td>7</td>\n",
       "      <td>8</td>\n",
       "    </tr>\n",
       "    <tr>\n",
       "      <th>7</th>\n",
       "      <td>bar</td>\n",
       "      <td>two</td>\n",
       "      <td>Tensor Flow</td>\n",
       "      <td>8</td>\n",
       "      <td>5</td>\n",
       "    </tr>\n",
       "    <tr>\n",
       "      <th>8</th>\n",
       "      <td>bar</td>\n",
       "      <td>two</td>\n",
       "      <td>TensorFlow</td>\n",
       "      <td>9</td>\n",
       "      <td>4</td>\n",
       "    </tr>\n",
       "  </tbody>\n",
       "</table>\n",
       "</div>"
      ],
      "text/plain": [
       "     A    B            C  D  E\n",
       "0  foo  one         java  1  2\n",
       "1  foo  one       python  2  4\n",
       "2  foo  one       golang  3  6\n",
       "3  foo  two      next.js  4  7\n",
       "4  foo  two      node.js  5  8\n",
       "5  bar  one          SQL  6  9\n",
       "6  bar  one    Postgress  7  8\n",
       "7  bar  two  Tensor Flow  8  5\n",
       "8  bar  two   TensorFlow  9  4"
      ]
     },
     "execution_count": 7,
     "metadata": {},
     "output_type": "execute_result"
    }
   ],
   "source": [
    "df.stack().unstack()"
   ]
  },
  {
   "cell_type": "code",
   "execution_count": 9,
   "id": "01762d7d",
   "metadata": {},
   "outputs": [
    {
     "data": {
      "application/vnd.microsoft.datawrangler.viewer.v0+json": {
       "columns": [
        {
         "name": "index",
         "rawType": "int64",
         "type": "integer"
        },
        {
         "name": "A",
         "rawType": "object",
         "type": "string"
        },
        {
         "name": "B",
         "rawType": "object",
         "type": "string"
        },
        {
         "name": "C",
         "rawType": "object",
         "type": "string"
        },
        {
         "name": "D",
         "rawType": "int64",
         "type": "integer"
        },
        {
         "name": "E",
         "rawType": "int64",
         "type": "integer"
        }
       ],
       "ref": "73b24330-7e04-42ab-aba1-48ea5566df63",
       "rows": [
        [
         "0",
         "foo",
         "one",
         "java",
         "1",
         "2"
        ],
        [
         "1",
         "foo",
         "one",
         "python",
         "2",
         "4"
        ],
        [
         "2",
         "foo",
         "one",
         "golang",
         "3",
         "6"
        ],
        [
         "3",
         "foo",
         "two",
         "next.js",
         "4",
         "7"
        ],
        [
         "4",
         "foo",
         "two",
         "node.js",
         "5",
         "8"
        ],
        [
         "5",
         "bar",
         "one",
         "SQL",
         "6",
         "9"
        ],
        [
         "6",
         "bar",
         "one",
         "Postgress",
         "7",
         "8"
        ],
        [
         "7",
         "bar",
         "two",
         "Tensor Flow",
         "8",
         "5"
        ],
        [
         "8",
         "bar",
         "two",
         "TensorFlow",
         "9",
         "4"
        ]
       ],
       "shape": {
        "columns": 5,
        "rows": 9
       }
      },
      "text/html": [
       "<div>\n",
       "<style scoped>\n",
       "    .dataframe tbody tr th:only-of-type {\n",
       "        vertical-align: middle;\n",
       "    }\n",
       "\n",
       "    .dataframe tbody tr th {\n",
       "        vertical-align: top;\n",
       "    }\n",
       "\n",
       "    .dataframe thead th {\n",
       "        text-align: right;\n",
       "    }\n",
       "</style>\n",
       "<table border=\"1\" class=\"dataframe\">\n",
       "  <thead>\n",
       "    <tr style=\"text-align: right;\">\n",
       "      <th></th>\n",
       "      <th>A</th>\n",
       "      <th>B</th>\n",
       "      <th>C</th>\n",
       "      <th>D</th>\n",
       "      <th>E</th>\n",
       "    </tr>\n",
       "  </thead>\n",
       "  <tbody>\n",
       "    <tr>\n",
       "      <th>0</th>\n",
       "      <td>foo</td>\n",
       "      <td>one</td>\n",
       "      <td>java</td>\n",
       "      <td>1</td>\n",
       "      <td>2</td>\n",
       "    </tr>\n",
       "    <tr>\n",
       "      <th>1</th>\n",
       "      <td>foo</td>\n",
       "      <td>one</td>\n",
       "      <td>python</td>\n",
       "      <td>2</td>\n",
       "      <td>4</td>\n",
       "    </tr>\n",
       "    <tr>\n",
       "      <th>2</th>\n",
       "      <td>foo</td>\n",
       "      <td>one</td>\n",
       "      <td>golang</td>\n",
       "      <td>3</td>\n",
       "      <td>6</td>\n",
       "    </tr>\n",
       "    <tr>\n",
       "      <th>3</th>\n",
       "      <td>foo</td>\n",
       "      <td>two</td>\n",
       "      <td>next.js</td>\n",
       "      <td>4</td>\n",
       "      <td>7</td>\n",
       "    </tr>\n",
       "    <tr>\n",
       "      <th>4</th>\n",
       "      <td>foo</td>\n",
       "      <td>two</td>\n",
       "      <td>node.js</td>\n",
       "      <td>5</td>\n",
       "      <td>8</td>\n",
       "    </tr>\n",
       "    <tr>\n",
       "      <th>5</th>\n",
       "      <td>bar</td>\n",
       "      <td>one</td>\n",
       "      <td>SQL</td>\n",
       "      <td>6</td>\n",
       "      <td>9</td>\n",
       "    </tr>\n",
       "    <tr>\n",
       "      <th>6</th>\n",
       "      <td>bar</td>\n",
       "      <td>one</td>\n",
       "      <td>Postgress</td>\n",
       "      <td>7</td>\n",
       "      <td>8</td>\n",
       "    </tr>\n",
       "    <tr>\n",
       "      <th>7</th>\n",
       "      <td>bar</td>\n",
       "      <td>two</td>\n",
       "      <td>Tensor Flow</td>\n",
       "      <td>8</td>\n",
       "      <td>5</td>\n",
       "    </tr>\n",
       "    <tr>\n",
       "      <th>8</th>\n",
       "      <td>bar</td>\n",
       "      <td>two</td>\n",
       "      <td>TensorFlow</td>\n",
       "      <td>9</td>\n",
       "      <td>4</td>\n",
       "    </tr>\n",
       "  </tbody>\n",
       "</table>\n",
       "</div>"
      ],
      "text/plain": [
       "     A    B            C  D  E\n",
       "0  foo  one         java  1  2\n",
       "1  foo  one       python  2  4\n",
       "2  foo  one       golang  3  6\n",
       "3  foo  two      next.js  4  7\n",
       "4  foo  two      node.js  5  8\n",
       "5  bar  one          SQL  6  9\n",
       "6  bar  one    Postgress  7  8\n",
       "7  bar  two  Tensor Flow  8  5\n",
       "8  bar  two   TensorFlow  9  4"
      ]
     },
     "metadata": {},
     "output_type": "display_data"
    }
   ],
   "source": [
    "df.pivot(\n",
    "    columns=\"B\",\n",
    "    index=\"E\",\n",
    "    values=\"C\"\n",
    ")\n",
    "\n",
    "display(df)"
   ]
  },
  {
   "cell_type": "code",
   "execution_count": 13,
   "id": "df5b6b7d",
   "metadata": {},
   "outputs": [
    {
     "data": {
      "application/vnd.microsoft.datawrangler.viewer.v0+json": {
       "columns": [
        {
         "name": "E",
         "rawType": "int64",
         "type": "integer"
        },
        {
         "name": "('max', 'one')",
         "rawType": "float64",
         "type": "float"
        },
        {
         "name": "('max', 'two')",
         "rawType": "float64",
         "type": "float"
        },
        {
         "name": "('min', 'one')",
         "rawType": "float64",
         "type": "float"
        },
        {
         "name": "('min', 'two')",
         "rawType": "float64",
         "type": "float"
        }
       ],
       "ref": "3743e942-11c3-451d-bc28-74dcce815eb5",
       "rows": [
        [
         "2",
         "1.0",
         null,
         "1.0",
         null
        ],
        [
         "4",
         "2.0",
         "9.0",
         "2.0",
         "9.0"
        ],
        [
         "5",
         null,
         "8.0",
         null,
         "8.0"
        ],
        [
         "6",
         "3.0",
         null,
         "3.0",
         null
        ],
        [
         "7",
         null,
         "4.0",
         null,
         "4.0"
        ],
        [
         "8",
         "7.0",
         "5.0",
         "7.0",
         "5.0"
        ],
        [
         "9",
         "6.0",
         null,
         "6.0",
         null
        ]
       ],
       "shape": {
        "columns": 4,
        "rows": 7
       }
      },
      "text/html": [
       "<div>\n",
       "<style scoped>\n",
       "    .dataframe tbody tr th:only-of-type {\n",
       "        vertical-align: middle;\n",
       "    }\n",
       "\n",
       "    .dataframe tbody tr th {\n",
       "        vertical-align: top;\n",
       "    }\n",
       "\n",
       "    .dataframe thead tr th {\n",
       "        text-align: left;\n",
       "    }\n",
       "\n",
       "    .dataframe thead tr:last-of-type th {\n",
       "        text-align: right;\n",
       "    }\n",
       "</style>\n",
       "<table border=\"1\" class=\"dataframe\">\n",
       "  <thead>\n",
       "    <tr>\n",
       "      <th></th>\n",
       "      <th colspan=\"2\" halign=\"left\">max</th>\n",
       "      <th colspan=\"2\" halign=\"left\">min</th>\n",
       "    </tr>\n",
       "    <tr>\n",
       "      <th>B</th>\n",
       "      <th>one</th>\n",
       "      <th>two</th>\n",
       "      <th>one</th>\n",
       "      <th>two</th>\n",
       "    </tr>\n",
       "    <tr>\n",
       "      <th>E</th>\n",
       "      <th></th>\n",
       "      <th></th>\n",
       "      <th></th>\n",
       "      <th></th>\n",
       "    </tr>\n",
       "  </thead>\n",
       "  <tbody>\n",
       "    <tr>\n",
       "      <th>2</th>\n",
       "      <td>1.0</td>\n",
       "      <td>NaN</td>\n",
       "      <td>1.0</td>\n",
       "      <td>NaN</td>\n",
       "    </tr>\n",
       "    <tr>\n",
       "      <th>4</th>\n",
       "      <td>2.0</td>\n",
       "      <td>9.0</td>\n",
       "      <td>2.0</td>\n",
       "      <td>9.0</td>\n",
       "    </tr>\n",
       "    <tr>\n",
       "      <th>5</th>\n",
       "      <td>NaN</td>\n",
       "      <td>8.0</td>\n",
       "      <td>NaN</td>\n",
       "      <td>8.0</td>\n",
       "    </tr>\n",
       "    <tr>\n",
       "      <th>6</th>\n",
       "      <td>3.0</td>\n",
       "      <td>NaN</td>\n",
       "      <td>3.0</td>\n",
       "      <td>NaN</td>\n",
       "    </tr>\n",
       "    <tr>\n",
       "      <th>7</th>\n",
       "      <td>NaN</td>\n",
       "      <td>4.0</td>\n",
       "      <td>NaN</td>\n",
       "      <td>4.0</td>\n",
       "    </tr>\n",
       "    <tr>\n",
       "      <th>8</th>\n",
       "      <td>7.0</td>\n",
       "      <td>5.0</td>\n",
       "      <td>7.0</td>\n",
       "      <td>5.0</td>\n",
       "    </tr>\n",
       "    <tr>\n",
       "      <th>9</th>\n",
       "      <td>6.0</td>\n",
       "      <td>NaN</td>\n",
       "      <td>6.0</td>\n",
       "      <td>NaN</td>\n",
       "    </tr>\n",
       "  </tbody>\n",
       "</table>\n",
       "</div>"
      ],
      "text/plain": [
       "   max       min     \n",
       "B  one  two  one  two\n",
       "E                    \n",
       "2  1.0  NaN  1.0  NaN\n",
       "4  2.0  9.0  2.0  9.0\n",
       "5  NaN  8.0  NaN  8.0\n",
       "6  3.0  NaN  3.0  NaN\n",
       "7  NaN  4.0  NaN  4.0\n",
       "8  7.0  5.0  7.0  5.0\n",
       "9  6.0  NaN  6.0  NaN"
      ]
     },
     "execution_count": 13,
     "metadata": {},
     "output_type": "execute_result"
    }
   ],
   "source": [
    "df.pivot_table(\n",
    "    values=\"D\",\n",
    "    index=\"E\",\n",
    "    columns=\"B\",\n",
    "    aggfunc={\"D\": [\"min\", \"max\", \"std\"]}\n",
    ")"
   ]
  }
 ],
 "metadata": {
  "kernelspec": {
   "display_name": "yolov5",
   "language": "python",
   "name": "python3"
  },
  "language_info": {
   "codemirror_mode": {
    "name": "ipython",
    "version": 3
   },
   "file_extension": ".py",
   "mimetype": "text/x-python",
   "name": "python",
   "nbconvert_exporter": "python",
   "pygments_lexer": "ipython3",
   "version": "3.13.2"
  }
 },
 "nbformat": 4,
 "nbformat_minor": 5
}
