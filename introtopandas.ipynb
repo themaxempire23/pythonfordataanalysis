{
 "cells": [
  {
   "cell_type": "markdown",
   "id": "25134447",
   "metadata": {},
   "source": [
    "# Series and Dataframes\n",
    "\n",
    "### Series: are One-dimensial labeled arrays of values\n",
    "### DataFrames: are Two-dimensional labeled data structures with columns of potentially different types.\n",
    "\n"
   ]
  },
  {
   "cell_type": "code",
   "execution_count": 2,
   "id": "9791aa1d",
   "metadata": {},
   "outputs": [],
   "source": [
    "import pandas as pd\n",
    "import numpy as np\n",
    "import matplotlib as mt"
   ]
  },
  {
   "cell_type": "code",
   "execution_count": 3,
   "id": "6cfc5c34",
   "metadata": {},
   "outputs": [
    {
     "name": "stdout",
     "output_type": "stream",
     "text": [
      "a    1\n",
      "b    2\n",
      "c    3\n",
      "d    4\n",
      "e    5\n",
      "dtype: int64\n"
     ]
    }
   ],
   "source": [
    "#creating a Series\n",
    "data = pd.Series([1, 2, 3, 4, 5], index=[\"a\", \"b\", \"c\", \"d\", \"e\"])\n",
    "print(data)"
   ]
  },
  {
   "cell_type": "code",
   "execution_count": 15,
   "id": "7cb390ac",
   "metadata": {},
   "outputs": [
    {
     "name": "stdout",
     "output_type": "stream",
     "text": [
      "     Name  Age       Country\n",
      "0  Simson   28       Namibia\n",
      "1    Anna   25  South Africa\n",
      "2   Peter   35           USA\n",
      "3   Linda   32        Canada\n",
      "4   Maria   90       Nigeria\n",
      "5  Daniel   42       Germany\n",
      "6   Simon   23       Germany\n",
      "7  Monica   16      Portugal\n",
      "<class 'pandas.core.frame.DataFrame'>\n",
      "RangeIndex: 8 entries, 0 to 7\n",
      "Data columns (total 3 columns):\n",
      " #   Column   Non-Null Count  Dtype \n",
      "---  ------   --------------  ----- \n",
      " 0   Name     8 non-null      object\n",
      " 1   Age      8 non-null      int64 \n",
      " 2   Country  8 non-null      object\n",
      "dtypes: int64(1), object(2)\n",
      "memory usage: 324.0+ bytes\n"
     ]
    },
    {
     "data": {
      "text/plain": [
       "7"
      ]
     },
     "execution_count": 15,
     "metadata": {},
     "output_type": "execute_result"
    }
   ],
   "source": [
    "# Creating a DataFrame\n",
    "data = {'Name': [\"Simson\", \"Anna\", \"Peter\", \"Linda\", \"Maria\", \"Daniel\", \"Simon\", \"Monica\"],\n",
    "        'Age': [28, 25, 35, 32, 90, 42, 23, 16],\n",
    "        'Country': [\"Namibia\", \"South Africa\", \"USA\", \"Canada\", \"Nigeria\", \"Germany\", \"Germany\", \"Portugal\"]}\n",
    "df = pd.DataFrame(data)\n",
    "print(df)\n",
    "\n",
    "df.head(4) #checking the first 4 rows\n",
    "\n",
    "df.tail(2)#checking the last 2 rows\n",
    "\n",
    "df.info() #Checking information about the columns\n",
    "df.dtypes # how to check the type of data types I'm using.\n",
    "df.shape #Check the size of my dataframe, in terms of rows & coloumns\n",
    "\n",
    "df.describe()  # How to check for statistics values\n",
    "\n",
    "df = df.sort_values(by=\"Age\").reset_index(drop=True) #Sorting the values\n",
    "\n",
    "df\n",
    "\n",
    "df.query(\"Age >= 30\") # Filtering information\n",
    "df[df[\"Age\"]>= 30]\n",
    "\n",
    "# Group by\n",
    "\n",
    "df.groupby(\"Country\") [\"Age\"].mean()\n",
    "\n",
    "# Unique\n",
    "df[\"Country\"].unique()\n",
    "\n",
    "# Counting unique values\n",
    "df[\"Country\"].nunique()\n"
   ]
  },
  {
   "cell_type": "code",
   "execution_count": null,
   "id": "895393c5",
   "metadata": {},
   "outputs": [],
   "source": []
  },
  {
   "cell_type": "code",
   "execution_count": null,
   "id": "0f8d44c9",
   "metadata": {},
   "outputs": [],
   "source": []
  }
 ],
 "metadata": {
  "kernelspec": {
   "display_name": "yolov5",
   "language": "python",
   "name": "python3"
  },
  "language_info": {
   "codemirror_mode": {
    "name": "ipython",
    "version": 3
   },
   "file_extension": ".py",
   "mimetype": "text/x-python",
   "name": "python",
   "nbconvert_exporter": "python",
   "pygments_lexer": "ipython3",
   "version": "3.13.2"
  }
 },
 "nbformat": 4,
 "nbformat_minor": 5
}
