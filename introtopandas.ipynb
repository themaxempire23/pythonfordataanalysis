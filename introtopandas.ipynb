{
 "cells": [
  {
   "cell_type": "markdown",
   "id": "25134447",
   "metadata": {},
   "source": [
    "# Series and Dataframes\n",
    "\n",
    "### Series: are One-dimensial labeled arrays of values\n",
    "### DataFrames: are Two-dimensional labeled data structures with columns of potentially different types.\n",
    "\n"
   ]
  },
  {
   "cell_type": "code",
   "execution_count": 1,
   "id": "9791aa1d",
   "metadata": {},
   "outputs": [],
   "source": [
    "import pandas as pd\n",
    "import numpy as np\n",
    "import matplotlib as mt"
   ]
  },
  {
   "cell_type": "code",
   "execution_count": null,
   "id": "6cfc5c34",
   "metadata": {},
   "outputs": [],
   "source": [
    "#creating series\n",
    "data = pd.Series([1, 2, 3, 4, 5], index=[\"a\", \"b\"])"
   ]
  },
  {
   "cell_type": "markdown",
   "id": "cfeeb7f9",
   "metadata": {},
   "source": []
  }
 ],
 "metadata": {
  "kernelspec": {
   "display_name": "yolov5",
   "language": "python",
   "name": "python3"
  },
  "language_info": {
   "codemirror_mode": {
    "name": "ipython",
    "version": 3
   },
   "file_extension": ".py",
   "mimetype": "text/x-python",
   "name": "python",
   "nbconvert_exporter": "python",
   "pygments_lexer": "ipython3",
   "version": "3.13.2"
  }
 },
 "nbformat": 4,
 "nbformat_minor": 5
}
