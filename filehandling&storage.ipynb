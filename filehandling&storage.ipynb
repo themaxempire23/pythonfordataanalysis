{
 "cells": [
  {
   "cell_type": "code",
   "execution_count": 8,
   "id": "9bc359c8",
   "metadata": {},
   "outputs": [],
   "source": [
    "import pandas as pd\n",
    "#import openpyxl\n"
   ]
  },
  {
   "cell_type": "code",
   "execution_count": 9,
   "id": "45321434",
   "metadata": {},
   "outputs": [],
   "source": [
    "# Creating a DataFrame\n",
    "data = {'Name': [\"Simson\", \"Anna\", \"Peter\", \"Linda\", \"Maria\", \"Daniel\", \"Simon\", \"Monica\"],\n",
    "        'Age': [28, 25, 35, 32, 90, 42, 23, 16],\n",
    "        'Country': [\"Namibia\", \"South Africa\", \"USA\", \"Canada\", \"Nigeria\", \"Germany\", \"Germany\", \"Portugal\"]}\n",
    "df = pd.DataFrame(data)"
   ]
  },
  {
   "cell_type": "code",
   "execution_count": 10,
   "id": "55943834",
   "metadata": {},
   "outputs": [],
   "source": [
    "# saving file as a csv file\n",
    "df.to_csv(\"dataframe2.csv\", index=False)\n",
    "\n",
    "#df.to_excel(\"dataframe1.xlsx\", engine=\"openpyxl\")\n"
   ]
  },
  {
   "cell_type": "markdown",
   "id": "c4d99591",
   "metadata": {},
   "source": [
    "### saving file as a .json file"
   ]
  },
  {
   "cell_type": "code",
   "execution_count": 11,
   "id": "3092eac7",
   "metadata": {},
   "outputs": [],
   "source": [
    "df.to_json(\"dataframe.json\")"
   ]
  },
  {
   "cell_type": "markdown",
   "id": "82b5f741",
   "metadata": {},
   "source": [
    "### How to read files"
   ]
  },
  {
   "cell_type": "code",
   "execution_count": 12,
   "id": "c6375480",
   "metadata": {},
   "outputs": [
    {
     "data": {
      "text/html": [
       "<div>\n",
       "<style scoped>\n",
       "    .dataframe tbody tr th:only-of-type {\n",
       "        vertical-align: middle;\n",
       "    }\n",
       "\n",
       "    .dataframe tbody tr th {\n",
       "        vertical-align: top;\n",
       "    }\n",
       "\n",
       "    .dataframe thead th {\n",
       "        text-align: right;\n",
       "    }\n",
       "</style>\n",
       "<table border=\"1\" class=\"dataframe\">\n",
       "  <thead>\n",
       "    <tr style=\"text-align: right;\">\n",
       "      <th></th>\n",
       "      <th>Name</th>\n",
       "      <th>Age</th>\n",
       "      <th>Country</th>\n",
       "    </tr>\n",
       "  </thead>\n",
       "  <tbody>\n",
       "    <tr>\n",
       "      <th>0</th>\n",
       "      <td>Simson</td>\n",
       "      <td>28</td>\n",
       "      <td>Namibia</td>\n",
       "    </tr>\n",
       "    <tr>\n",
       "      <th>1</th>\n",
       "      <td>Anna</td>\n",
       "      <td>25</td>\n",
       "      <td>South Africa</td>\n",
       "    </tr>\n",
       "    <tr>\n",
       "      <th>2</th>\n",
       "      <td>Peter</td>\n",
       "      <td>35</td>\n",
       "      <td>USA</td>\n",
       "    </tr>\n",
       "    <tr>\n",
       "      <th>3</th>\n",
       "      <td>Linda</td>\n",
       "      <td>32</td>\n",
       "      <td>Canada</td>\n",
       "    </tr>\n",
       "    <tr>\n",
       "      <th>4</th>\n",
       "      <td>Maria</td>\n",
       "      <td>90</td>\n",
       "      <td>Nigeria</td>\n",
       "    </tr>\n",
       "    <tr>\n",
       "      <th>5</th>\n",
       "      <td>Daniel</td>\n",
       "      <td>42</td>\n",
       "      <td>Germany</td>\n",
       "    </tr>\n",
       "    <tr>\n",
       "      <th>6</th>\n",
       "      <td>Simon</td>\n",
       "      <td>23</td>\n",
       "      <td>Germany</td>\n",
       "    </tr>\n",
       "    <tr>\n",
       "      <th>7</th>\n",
       "      <td>Monica</td>\n",
       "      <td>16</td>\n",
       "      <td>Portugal</td>\n",
       "    </tr>\n",
       "  </tbody>\n",
       "</table>\n",
       "</div>"
      ],
      "text/plain": [
       "     Name  Age       Country\n",
       "0  Simson   28       Namibia\n",
       "1    Anna   25  South Africa\n",
       "2   Peter   35           USA\n",
       "3   Linda   32        Canada\n",
       "4   Maria   90       Nigeria\n",
       "5  Daniel   42       Germany\n",
       "6   Simon   23       Germany\n",
       "7  Monica   16      Portugal"
      ]
     },
     "execution_count": 12,
     "metadata": {},
     "output_type": "execute_result"
    }
   ],
   "source": [
    "pd.read_csv('dataframe.csv')"
   ]
  },
  {
   "cell_type": "markdown",
   "id": "2f0c2316",
   "metadata": {},
   "source": [
    "### Saving file into database\n",
    "\n",
    "-> Saving file into SQL Base file"
   ]
  },
  {
   "cell_type": "code",
   "execution_count": 13,
   "id": "1673789c",
   "metadata": {},
   "outputs": [],
   "source": [
    "import sqlite3 as sql\n",
    "\n"
   ]
  },
  {
   "cell_type": "code",
   "execution_count": 14,
   "id": "f0b43085",
   "metadata": {},
   "outputs": [],
   "source": [
    "conn = sql.connect('pybase.db')\n",
    "\n",
    "df.to_sql(\"people\", conn)                                  \n",
    "conn.close()"
   ]
  }
 ],
 "metadata": {
  "kernelspec": {
   "display_name": "yolov5",
   "language": "python",
   "name": "python3"
  },
  "language_info": {
   "codemirror_mode": {
    "name": "ipython",
    "version": 3
   },
   "file_extension": ".py",
   "mimetype": "text/x-python",
   "name": "python",
   "nbconvert_exporter": "python",
   "pygments_lexer": "ipython3",
   "version": "3.13.2"
  }
 },
 "nbformat": 4,
 "nbformat_minor": 5
}
